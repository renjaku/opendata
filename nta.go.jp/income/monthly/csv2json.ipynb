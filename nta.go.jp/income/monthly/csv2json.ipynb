{
 "cells": [
  {
   "cell_type": "markdown",
   "id": "2b02958c-3122-4c73-b538-2d179fc455e4",
   "metadata": {},
   "source": [
    "# CSV to JSON\n",
    "\n",
    "- [令和２年 (2020-02-01) 以降、税額表の変更はなし](https://www.nta.go.jp/publication/pamph/gensen/zeigakuhyo2019/02.htm)"
   ]
  },
  {
   "cell_type": "code",
   "execution_count": 1,
   "id": "027a21ef-705e-4aef-81f4-f71d4739dc2c",
   "metadata": {},
   "outputs": [],
   "source": [
    "import csv\n",
    "import json\n",
    "import pathlib\n",
    "\n",
    "for path in pathlib.Path.cwd().glob('*.csv'):\n",
    "    items = []\n",
    "\n",
    "    with path.open(encoding='utf8') as f:\n",
    "        for row in csv.DictReader(f):\n",
    "            item = dict()\n",
    "\n",
    "            for k, v in row.items():\n",
    "                if v == '':\n",
    "                    v = None\n",
    "                else:\n",
    "                    try:\n",
    "                        v = int(v)\n",
    "                    except ValueError:\n",
    "                        try:\n",
    "                            v = float(v)\n",
    "                        except ValueError:\n",
    "                            ...\n",
    "\n",
    "                if k.startswith('dependents'):\n",
    "                    if 'dependents' not in item:\n",
    "                        item['dependents'] = []\n",
    "\n",
    "                    item['dependents'].append(v)\n",
    "\n",
    "                else:\n",
    "                    item[k] = v\n",
    "\n",
    "            items.append(item)\n",
    "\n",
    "    with path.with_suffix('.json').open('w') as f:\n",
    "        json.dump(items, f, indent=2)"
   ]
  }
 ],
 "metadata": {
  "kernelspec": {
   "display_name": "Python 3 (ipykernel)",
   "language": "python",
   "name": "python3"
  },
  "language_info": {
   "codemirror_mode": {
    "name": "ipython",
    "version": 3
   },
   "file_extension": ".py",
   "mimetype": "text/x-python",
   "name": "python",
   "nbconvert_exporter": "python",
   "pygments_lexer": "ipython3",
   "version": "3.12.1"
  }
 },
 "nbformat": 4,
 "nbformat_minor": 5
}
