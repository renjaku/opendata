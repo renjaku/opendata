{
 "cells": [
  {
   "cell_type": "markdown",
   "id": "523c0175-3253-4a07-a2cc-e8223e0b4f60",
   "metadata": {},
   "source": [
    "# PDF to CSV"
   ]
  },
  {
   "cell_type": "markdown",
   "id": "3cd36d91-3c99-4e6c-a683-965cb67f0e48",
   "metadata": {},
   "source": [
    "**Note**\n",
    "\n",
    "[令和６年 (2024-03-01) の PDF](https://www.kyoukaikenpo.or.jp/~/media/Files/shared/hokenryouritu/r6/ippan/r60213tokyo.pdf)\n",
    "は、直接 tabula-py でパース出来ないため、次の手順でパース出来る PDF に変換する。\n",
    "\n",
    "- [都道府県別エクセル](https://www.kyoukaikenpo.or.jp/~/media/Files/shared/hokenryouritu/r6/ippan/r6ippan3.xlsx)をダウンロード\n",
    "- ファイルをエクセルで開き PDF で保存 (ファイル > 印刷)\n",
    "- PDF を所定の場所に配置 (`/path/to/r6/kyoukaikenpo.or.jp/`)\n",
    "- ローカルサーバーを 8000 番ポートで起動 (`cd /path/to/ && python -m http.server`)\n",
    "- このノートブックを実行することで CSV に変換"
   ]
  },
  {
   "cell_type": "code",
   "execution_count": 1,
   "id": "4ce77174",
   "metadata": {},
   "outputs": [],
   "source": [
    "# SRC = 'https://www.kyoukaikenpo.or.jp/~/media/Files/shared/hokenryouritu/r6/ippan/r60213tokyo.pdf'\n",
    "SRC = 'http://localhost:8000/r6/kyoukaikenpo.or.jp/r60213tokyo.pdf'\n",
    "DST = '2024-03-01.csv'"
   ]
  },
  {
   "cell_type": "code",
   "execution_count": 2,
   "id": "e46bcd26",
   "metadata": {},
   "outputs": [
    {
     "data": {
      "text/plain": [
       "'2024-03-03T11:17:50.777603+00:00'"
      ]
     },
     "execution_count": 2,
     "metadata": {},
     "output_type": "execute_result"
    }
   ],
   "source": [
    "import datetime\n",
    "import hashlib\n",
    "import io\n",
    "import pathlib\n",
    "import urllib.request\n",
    "\n",
    "try:\n",
    "    import tabula\n",
    "except ModuleNotFoundError:\n",
    "    !pip install tabula-py==2.9.0\n",
    "    import tabula\n",
    "\n",
    "datetime.datetime.now().astimezone(datetime.timezone.utc).isoformat()"
   ]
  },
  {
   "cell_type": "code",
   "execution_count": 3,
   "id": "2123e2f8",
   "metadata": {},
   "outputs": [
    {
     "data": {
      "text/plain": [
       "'f8041ecc055362dd932ce6a1ac1867c1289426be47a4059f167e39d7a05b8458'"
      ]
     },
     "execution_count": 3,
     "metadata": {},
     "output_type": "execute_result"
    }
   ],
   "source": [
    "data = io.BytesIO()\n",
    "\n",
    "with urllib.request.urlopen(SRC) as f:\n",
    "    data.write(f.read())\n",
    "\n",
    "hashlib.sha256(data.getvalue()).hexdigest()"
   ]
  },
  {
   "cell_type": "code",
   "execution_count": 4,
   "id": "efa6311a",
   "metadata": {},
   "outputs": [
    {
     "name": "stderr",
     "output_type": "stream",
     "text": [
      "Error importing jpype dependencies. Fallback to subprocess.\n",
      "No module named 'jpype'\n",
      "Got stderr: 3月 03, 2024 8:17:51 午後 org.apache.fontbox.ttf.CmapSubtable processSubtype14\n",
      "警告: Format 14 cmap table is not supported and will be ignored\n",
      "\n"
     ]
    },
    {
     "data": {
      "text/plain": [
       "'035311e5823cc8b5b562c6263fdfbaf51d8e398c7f6fe7deee73aabde4345f25'"
      ]
     },
     "execution_count": 4,
     "metadata": {},
     "output_type": "execute_result"
    }
   ],
   "source": [
    "data.seek(0)\n",
    "\n",
    "df = tabula.read_pdf(data, lattice=True, pages=1)[0]\n",
    "\n",
    "df = df.iloc[:, [1, 2, 3, 4, 5, 6, 7]]\n",
    "\n",
    "df.columns = \"\"\"\n",
    "標準報酬_等級\n",
    "標準報酬_月額\n",
    "報酬月額\n",
    "介護保険の被保険者でない場合_全額\n",
    "介護保険の被保険者でない場合_折半額\n",
    "介護保険の被保険者の場合_全額\n",
    "介護保険の被保険者の場合_折半額\n",
    "\"\"\".strip().split()\n",
    "\n",
    "df['標準報酬_等級'] = df['標準報酬_等級'].str.replace(r'\\([0-9]+\\)', '', regex=True)\n",
    "df = df[~df['標準報酬_等級'].isnull()]\n",
    "df = df[df['標準報酬_等級'].str.match(r'^[0-9]+$')]\n",
    "df['標準報酬_等級'] = df['標準報酬_等級'].astype(int)\n",
    "df = df.set_index('標準報酬_等級').sort_index()\n",
    "\n",
    "assert df.shape[0] == 50, f'等級数 ({df.shape[0]}) に過不足があります。'\n",
    "\n",
    "s = df['報酬月額'].str.replace(r'[^0-9~]', '', regex=True)\n",
    "df_ = s.str.split('~', n=1, expand=True)\n",
    "df_ = df_.rename(columns={0: '報酬月額_以上', 1: '報酬月額_未満'})\n",
    "df = df.merge(df_, left_index=True, right_index=True)\n",
    "\n",
    "del df['報酬月額']\n",
    "\n",
    "for x in df.columns:\n",
    "    df[x] = df[x].str.replace(',', '')\n",
    "\n",
    "df = df.replace('', float('nan'))\n",
    "df['報酬月額_以上'] = df['報酬月額_以上'].astype(float)\n",
    "df['報酬月額_未満'] = df['報酬月額_未満'].astype(float)\n",
    "df['標準報酬_月額'] = df['標準報酬_月額'].astype(int)\n",
    "\n",
    "for x in \"\"\"\n",
    "介護保険の被保険者でない場合_全額\n",
    "介護保険の被保険者でない場合_折半額\n",
    "介護保険の被保険者の場合_全額\n",
    "介護保険の被保険者の場合_折半額\n",
    "\"\"\".strip().split():\n",
    "    df[x] = df[x].astype(float)\n",
    "\n",
    "for x in \"\"\"\n",
    "介護保険の被保険者でない場合_\n",
    "介護保険の被保険者の場合_\n",
    "\"\"\".strip().split():\n",
    "    df[x + '控除額'] = (df[x + '折半額'] + .49).astype(int)\n",
    "\n",
    "df = df[\"\"\"\n",
    "標準報酬_月額\n",
    "報酬月額_以上\n",
    "報酬月額_未満\n",
    "介護保険の被保険者でない場合_全額\n",
    "介護保険の被保険者でない場合_折半額\n",
    "介護保険の被保険者でない場合_控除額\n",
    "介護保険の被保険者の場合_全額\n",
    "介護保険の被保険者の場合_折半額\n",
    "介護保険の被保険者の場合_控除額\n",
    "\"\"\".strip().split()]\n",
    "\n",
    "df.to_csv(DST)\n",
    "\n",
    "hashlib.sha256(pathlib.Path(DST).read_bytes()).hexdigest()"
   ]
  }
 ],
 "metadata": {
  "kernelspec": {
   "display_name": "Python 3 (ipykernel)",
   "language": "python",
   "name": "python3"
  },
  "language_info": {
   "codemirror_mode": {
    "name": "ipython",
    "version": 3
   },
   "file_extension": ".py",
   "mimetype": "text/x-python",
   "name": "python",
   "nbconvert_exporter": "python",
   "pygments_lexer": "ipython3",
   "version": "3.12.1"
  }
 },
 "nbformat": 4,
 "nbformat_minor": 5
}
