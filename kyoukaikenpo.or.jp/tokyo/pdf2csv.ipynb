{
 "cells": [
  {
   "cell_type": "markdown",
   "id": "523c0175-3253-4a07-a2cc-e8223e0b4f60",
   "metadata": {},
   "source": [
    "# PDF to CSV"
   ]
  },
  {
   "cell_type": "code",
   "execution_count": 1,
   "id": "4ce77174",
   "metadata": {},
   "outputs": [],
   "source": [
    "SRC = 'https://www.kyoukaikenpo.or.jp/~/media/Files/shared/hokenryouritu/r5/ippan/r50213tokyo.pdf'\n",
    "DST = '2023-04-01.csv'"
   ]
  },
  {
   "cell_type": "code",
   "execution_count": 2,
   "id": "e46bcd26",
   "metadata": {},
   "outputs": [
    {
     "data": {
      "text/plain": [
       "'2023-12-19T05:06:02.549847+00:00'"
      ]
     },
     "execution_count": 2,
     "metadata": {},
     "output_type": "execute_result"
    }
   ],
   "source": [
    "import datetime\n",
    "import hashlib\n",
    "import io\n",
    "import pathlib\n",
    "import urllib.request\n",
    "\n",
    "try:\n",
    "    import tabula\n",
    "except ModuleNotFoundError:\n",
    "    !pip install tabula-py\n",
    "    import tabula\n",
    "\n",
    "datetime.datetime.now().astimezone(datetime.timezone.utc).isoformat()"
   ]
  },
  {
   "cell_type": "code",
   "execution_count": 3,
   "id": "2123e2f8",
   "metadata": {},
   "outputs": [
    {
     "data": {
      "text/plain": [
       "'f376d073d6950d3584d816c0f51cf5e40604135ad0392079f39427361be97ce9'"
      ]
     },
     "execution_count": 3,
     "metadata": {},
     "output_type": "execute_result"
    }
   ],
   "source": [
    "data = io.BytesIO()\n",
    "\n",
    "with urllib.request.urlopen(SRC) as f:\n",
    "    data.write(f.read())\n",
    "\n",
    "hashlib.sha256(data.getvalue()).hexdigest()"
   ]
  },
  {
   "cell_type": "code",
   "execution_count": 4,
   "id": "efa6311a",
   "metadata": {},
   "outputs": [
    {
     "name": "stderr",
     "output_type": "stream",
     "text": [
      "Error importing jpype dependencies. Fallback to subprocess.\n",
      "No module named 'jpype'\n",
      "Got stderr: 12月 19, 2023 2:06:03 午後 org.apache.fontbox.ttf.CmapSubtable processSubtype14\n",
      "警告: Format 14 cmap table is not supported and will be ignored\n",
      "12月 19, 2023 2:06:03 午後 org.apache.fontbox.ttf.CmapSubtable processSubtype14\n",
      "警告: Format 14 cmap table is not supported and will be ignored\n",
      "\n"
     ]
    },
    {
     "data": {
      "text/plain": [
       "'11701df9243c6792d31a1c2f3950b8a2ee5ab42bbef661080f3cc466fb30910d'"
      ]
     },
     "execution_count": 4,
     "metadata": {},
     "output_type": "execute_result"
    }
   ],
   "source": [
    "data.seek(0)\n",
    "\n",
    "df = tabula.read_pdf(data, lattice=True, pages=1)[0]\n",
    "\n",
    "df = df.iloc[:, [1, 2, 3, 4, 5, 6, 7]]\n",
    "\n",
    "df.columns = \"\"\"\n",
    "標準報酬_等級\n",
    "標準報酬_月額\n",
    "報酬月額\n",
    "介護保険の被保険者でない場合_全額\n",
    "介護保険の被保険者でない場合_折半額\n",
    "介護保険の被保険者の場合_全額\n",
    "介護保険の被保険者の場合_折半額\n",
    "\"\"\".strip().split()\n",
    "\n",
    "df['標準報酬_等級'] = df['標準報酬_等級'].str.replace(r'\\([0-9]+\\)', '', regex=True)\n",
    "df = df[~df['標準報酬_等級'].isnull()]\n",
    "df = df[df['標準報酬_等級'].str.match(r'^[0-9]+$')]\n",
    "df['標準報酬_等級'] = df['標準報酬_等級'].astype(int)\n",
    "df = df.set_index('標準報酬_等級').sort_index()\n",
    "\n",
    "assert df.shape[0] == 50, f'等級数 ({df.shape[0]}) に過不足があります。'\n",
    "\n",
    "s = df['報酬月額'].str.replace(r'[^0-9~]', '', regex=True)\n",
    "df_ = s.str.split('~', n=1, expand=True)\n",
    "df_ = df_.rename(columns={0: '報酬月額_以上', 1: '報酬月額_未満'})\n",
    "df = df.merge(df_, left_index=True, right_index=True)\n",
    "\n",
    "del df['報酬月額']\n",
    "\n",
    "for x in df.columns:\n",
    "    df[x] = df[x].str.replace(',', '')\n",
    "\n",
    "df = df.replace('', float('nan'))\n",
    "df['報酬月額_以上'] = df['報酬月額_以上'].astype(float)\n",
    "df['報酬月額_未満'] = df['報酬月額_未満'].astype(float)\n",
    "df['標準報酬_月額'] = df['標準報酬_月額'].astype(int)\n",
    "\n",
    "for x in \"\"\"\n",
    "介護保険の被保険者でない場合_全額\n",
    "介護保険の被保険者でない場合_折半額\n",
    "介護保険の被保険者の場合_全額\n",
    "介護保険の被保険者の場合_折半額\n",
    "\"\"\".strip().split():\n",
    "    df[x] = df[x].astype(float)\n",
    "\n",
    "for x in \"\"\"\n",
    "介護保険の被保険者でない場合_\n",
    "介護保険の被保険者の場合_\n",
    "\"\"\".strip().split():\n",
    "    df[x + '控除額'] = (df[x + '折半額'] + .49).astype(int)\n",
    "\n",
    "df = df[\"\"\"\n",
    "標準報酬_月額\n",
    "報酬月額_以上\n",
    "報酬月額_未満\n",
    "介護保険の被保険者でない場合_全額\n",
    "介護保険の被保険者でない場合_折半額\n",
    "介護保険の被保険者でない場合_控除額\n",
    "介護保険の被保険者の場合_全額\n",
    "介護保険の被保険者の場合_折半額\n",
    "介護保険の被保険者の場合_控除額\n",
    "\"\"\".strip().split()]\n",
    "\n",
    "df.to_csv(DST)\n",
    "\n",
    "hashlib.sha256(pathlib.Path(DST).read_bytes()).hexdigest()"
   ]
  }
 ],
 "metadata": {
  "kernelspec": {
   "display_name": "Python 3 (ipykernel)",
   "language": "python",
   "name": "python3"
  },
  "language_info": {
   "codemirror_mode": {
    "name": "ipython",
    "version": 3
   },
   "file_extension": ".py",
   "mimetype": "text/x-python",
   "name": "python",
   "nbconvert_exporter": "python",
   "pygments_lexer": "ipython3",
   "version": "3.11.4"
  }
 },
 "nbformat": 4,
 "nbformat_minor": 5
}
