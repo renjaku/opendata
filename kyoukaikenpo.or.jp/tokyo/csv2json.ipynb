{
 "cells": [
  {
   "cell_type": "markdown",
   "id": "62b85a88-7e57-464e-938f-94ccc4ddb93b",
   "metadata": {},
   "source": [
    "# CSV to JSON"
   ]
  },
  {
   "cell_type": "code",
   "execution_count": 1,
   "id": "7dc27f1a-2cbe-42ae-8eb1-d05d2540bb36",
   "metadata": {},
   "outputs": [],
   "source": [
    "import csv\n",
    "import json\n",
    "import pathlib\n",
    "\n",
    "for path in pathlib.Path.cwd().glob('*.csv'):\n",
    "    items = []\n",
    "\n",
    "    with path.open(encoding='utf8') as f:\n",
    "        for row in csv.DictReader(f):\n",
    "            item = dict()\n",
    "\n",
    "            for k, v in row.items():\n",
    "                if v == '':\n",
    "                    v = None\n",
    "                else:\n",
    "                    try:\n",
    "                        v = int(v)\n",
    "                    except ValueError:\n",
    "                        try:\n",
    "                            v = float(v)\n",
    "                        except ValueError:\n",
    "                            ...\n",
    "\n",
    "                item[k] = v\n",
    "\n",
    "            items.append(item)\n",
    "\n",
    "    with path.with_suffix('.json').open('w') as f:\n",
    "        json.dump(items, f, indent=2)"
   ]
  }
 ],
 "metadata": {
  "kernelspec": {
   "display_name": "Python 3 (ipykernel)",
   "language": "python",
   "name": "python3"
  },
  "language_info": {
   "codemirror_mode": {
    "name": "ipython",
    "version": 3
   },
   "file_extension": ".py",
   "mimetype": "text/x-python",
   "name": "python",
   "nbconvert_exporter": "python",
   "pygments_lexer": "ipython3",
   "version": "3.11.4"
  }
 },
 "nbformat": 4,
 "nbformat_minor": 5
}
